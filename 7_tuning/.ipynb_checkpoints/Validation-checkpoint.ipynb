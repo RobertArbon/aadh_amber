{
 "cells": [
  {
   "cell_type": "code",
   "execution_count": 52,
   "metadata": {
    "collapsed": false
   },
   "outputs": [],
   "source": [
    "import mdtraj as md\n",
    "import sys\n",
    "import numpy as np\n",
    "import matplotlib.pyplot as plt\n",
    "import seaborn\n",
    "%matplotlib inline\n"
   ]
  },
  {
   "cell_type": "markdown",
   "metadata": {},
   "source": [
    "## Tests"
   ]
  },
  {
   "cell_type": "markdown",
   "metadata": {},
   "source": [
    "1.  Velocity-velocity and position-position autocorrelation functions for two active site atoms\n",
    "2.  Radial distribution (g(r)) functions for same active site atoms\n",
    "3.  Import water g(r) from VMD as it deals with PBC nicely\n"
   ]
  },
  {
   "cell_type": "markdown",
   "metadata": {},
   "source": [
    "## Select atoms"
   ]
  },
  {
   "cell_type": "code",
   "execution_count": 18,
   "metadata": {
    "collapsed": false
   },
   "outputs": [],
   "source": [
    "top = md.load_prmtop('../common/2agy_final_min.prmtop')\n",
    "table, bond = top.to_dataframe()"
   ]
  },
  {
   "cell_type": "code",
   "execution_count": 115,
   "metadata": {
    "collapsed": false
   },
   "outputs": [
    {
     "name": "stdout",
     "output_type": "stream",
     "text": [
      "      serial name element  resSeq resName  chainID segmentID\n",
      "6100    None  CI2       C     399     TTW        0          \n",
      "13310   None  CI2       C     872     TTW        0          \n",
      "     serial name element  resSeq resName  chainID segmentID\n",
      "6404   None   CG       C     418     ASP        0          \n"
     ]
    }
   ],
   "source": [
    "print(table.loc[(table['resName']=='TTW') & (table['name']=='CI2'),:])\n",
    "print(table.loc[(table['resSeq'] == 418) & (table['name']=='CG'),:])\n",
    "atom_indices  = [6100, 6404]"
   ]
  },
  {
   "cell_type": "markdown",
   "metadata": {},
   "source": [
    "## Import trajectories"
   ]
  },
  {
   "cell_type": "code",
   "execution_count": 116,
   "metadata": {
    "collapsed": false
   },
   "outputs": [],
   "source": [
    "cases_fn = {'ref': 'ref_traj.mdcrd', \n",
    "            'hmrcut10': 'hmrcut10.mdcrd',\n",
    "            'hmrcut12': 'hmrcut12.dcrd'\n",
    "cases_traj = {}\n",
    "for k, v in cases_fn.items():\n",
    "    cases_traj[k] = md.load_netcdf(filename=v, top=top, atom_indices=atom_indices)\n"
   ]
  },
  {
   "cell_type": "code",
   "execution_count": 124,
   "metadata": {
    "collapsed": false
   },
   "outputs": [],
   "source": [
    "positions = {}\n",
    "velocities = {}\n",
    "for k, v in cases_traj.items():\n",
    "    r = v.xyz[:,0,:] - v.xyz[:,1,:]\n",
    "    positions[k] = r\n",
    "    dt = v.timestep\n",
    "    velocities[k] = (r[1:,:] - r[:-1,:])/dt\n",
    " "
   ]
  },
  {
   "cell_type": "code",
   "execution_count": null,
   "metadata": {
    "collapsed": true
   },
   "outputs": [],
   "source": [
    "for k, v in positions.items():\n",
    "    "
   ]
  },
  {
   "cell_type": "markdown",
   "metadata": {},
   "source": [
    "## Calculate ACFs"
   ]
  },
  {
   "cell_type": "code",
   "execution_count": 127,
   "metadata": {
    "collapsed": true
   },
   "outputs": [],
   "source": [
    "def acf(x):\n",
    "    \"\"\"\n",
    "    http://stackoverflow.com/q/14297012/190597\n",
    "    http://en.wikipedia.org/wiki/Autocorrelation#Estimation\n",
    "    \"\"\"\n",
    "    n = len(x)\n",
    "    variance = x.var()\n",
    "    x = x-x.mean()\n",
    "    r = np.correlate(x, x, mode = 'full')[-n:]\n",
    "#     print((np.array([(x[:n-k]*x[-(n-k):]).sum() for k in range(n)])-r).sum())\n",
    "#     assert np.allclose(r, np.array([(x[:n-k]*x[-(n-k):]).sum() for k in range(n)]))\n",
    "    result = r/(variance*(np.arange(n, 0, -1)))\n",
    "    return result"
   ]
  },
  {
   "cell_type": "code",
   "execution_count": 159,
   "metadata": {
    "collapsed": false
   },
   "outputs": [],
   "source": [
    "def plot_acf(series, xlim=None):\n",
    "    for k, v in series.items():\n",
    "        ct = np.array([acf(v[:,i]) for i in range(3)]).mean(axis=0)\n",
    "        print(ct.shape)\n",
    "        dt = cases_traj[k].timestep\n",
    "        t = np.arange(len(ct))*dt\n",
    "        plt.plot(t, ct, label='{}'.format(k))\n",
    "\n",
    "    plt.legend()\n",
    "    plt.xlabel('Time (ps)')\n",
    "    plt.ylabel('ACF')\n",
    "    if xlim is not None:\n",
    "        plt.xlim(xlim)"
   ]
  },
  {
   "cell_type": "code",
   "execution_count": 164,
   "metadata": {
    "collapsed": false
   },
   "outputs": [
    {
     "name": "stdout",
     "output_type": "stream",
     "text": [
      "(10000,)\n",
      "(5000,)\n"
     ]
    },
    {
     "data": {
      "image/png": "[encoded data removed]",
      "text/plain": [
       "<matplotlib.figure.Figure at 0x7fa5e822b0b8>"
      ]
     },
     "metadata": {},
     "output_type": "display_data"
    }
   ],
   "source": [
    "plot_acf(positions, xlim=(0,200))"
   ]
  },
  {
   "cell_type": "code",
   "execution_count": 163,
   "metadata": {
    "collapsed": false
   },
   "outputs": [
    {
     "name": "stdout",
     "output_type": "stream",
     "text": [
      "(9999,)\n",
      "(4999,)\n"
     ]
    },
    {
     "data": {
      "image/png": "[encoded data removed]",
      "text/plain": [
       "<matplotlib.figure.Figure at 0x7fa5e8538048>"
      ]
     },
     "metadata": {},
     "output_type": "display_data"
    }
   ],
   "source": [
    "plot_acf(velocities, xlim=(0,2))"
   ]
  },
  {
   "cell_type": "code",
   "execution_count": null,
   "metadata": {
    "collapsed": true
   },
   "outputs": [],
   "source": []
  }
 ],
 "metadata": {
  "anaconda-cloud": {},
  "kernelspec": {
   "display_name": "Python [conda root]",
   "language": "python",
   "name": "conda-root-py"
  },
  "language_info": {
   "codemirror_mode": {
    "name": "ipython",
    "version": 3
   },
   "file_extension": ".py",
   "mimetype": "text/x-python",
   "name": "python",
   "nbconvert_exporter": "python",
   "pygments_lexer": "ipython3",
   "version": "3.5.2"
  }
 },
 "nbformat": 4,
 "nbformat_minor": 1
}
